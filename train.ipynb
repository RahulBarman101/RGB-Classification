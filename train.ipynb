{
 "cells": [
  {
   "cell_type": "code",
   "execution_count": 1,
   "metadata": {},
   "outputs": [],
   "source": [
    "import cv2\n",
    "import os\n",
    "from tqdm import tqdm\n",
    "import numpy as np"
   ]
  },
  {
   "cell_type": "code",
   "execution_count": 2,
   "metadata": {},
   "outputs": [
    {
     "name": "stdout",
     "output_type": "stream",
     "text": [
      "['Blue', 'Green', 'red']\n"
     ]
    }
   ],
   "source": [
    "img_dir = 'images'\n",
    "print(os.listdir(img_dir))"
   ]
  },
  {
   "cell_type": "code",
   "execution_count": 3,
   "metadata": {},
   "outputs": [],
   "source": [
    "dataset = []\n",
    "for i in os.listdir(img_dir):\n",
    "    path = os.path.join(img_dir,i)\n",
    "#     print(path)\n",
    "    for im in os.scandir(path):\n",
    "        img = cv2.imread(im.path)\n",
    "        img = cv2.resize(img,(224,224))\n",
    "        dataset.append([img,i])"
   ]
  },
  {
   "cell_type": "code",
   "execution_count": 4,
   "metadata": {},
   "outputs": [],
   "source": [
    "x = []\n",
    "y = []\n",
    "for features,labels in dataset:\n",
    "    x.append(features)\n",
    "    y.append(labels)"
   ]
  },
  {
   "cell_type": "code",
   "execution_count": 5,
   "metadata": {},
   "outputs": [
    {
     "data": {
      "text/plain": [
       "['Blue', 'Blue', 'Blue']"
      ]
     },
     "execution_count": 5,
     "metadata": {},
     "output_type": "execute_result"
    }
   ],
   "source": [
    "y[:3]"
   ]
  },
  {
   "cell_type": "code",
   "execution_count": 6,
   "metadata": {},
   "outputs": [],
   "source": [
    "from sklearn.preprocessing import LabelEncoder\n",
    "le = LabelEncoder()\n",
    "y = le.fit_transform(y)"
   ]
  },
  {
   "cell_type": "code",
   "execution_count": 7,
   "metadata": {},
   "outputs": [],
   "source": [
    "x = np.array(x)"
   ]
  },
  {
   "cell_type": "code",
   "execution_count": 8,
   "metadata": {},
   "outputs": [
    {
     "data": {
      "text/plain": [
       "(397, 224, 224, 3)"
      ]
     },
     "execution_count": 8,
     "metadata": {},
     "output_type": "execute_result"
    }
   ],
   "source": [
    "x.shape"
   ]
  },
  {
   "cell_type": "code",
   "execution_count": 9,
   "metadata": {},
   "outputs": [
    {
     "data": {
      "text/plain": [
       "(397,)"
      ]
     },
     "execution_count": 9,
     "metadata": {},
     "output_type": "execute_result"
    }
   ],
   "source": [
    "y.shape"
   ]
  },
  {
   "cell_type": "code",
   "execution_count": 10,
   "metadata": {},
   "outputs": [],
   "source": [
    "y = y.reshape(y.shape[0],1)"
   ]
  },
  {
   "cell_type": "code",
   "execution_count": 11,
   "metadata": {},
   "outputs": [
    {
     "data": {
      "text/plain": [
       "(397, 1)"
      ]
     },
     "execution_count": 11,
     "metadata": {},
     "output_type": "execute_result"
    }
   ],
   "source": [
    "y.shape"
   ]
  },
  {
   "cell_type": "code",
   "execution_count": 12,
   "metadata": {},
   "outputs": [],
   "source": [
    "x = x/255.0"
   ]
  },
  {
   "cell_type": "code",
   "execution_count": 13,
   "metadata": {},
   "outputs": [
    {
     "data": {
      "text/plain": [
       "array([[[0.6       , 0.0745098 , 0.        ],\n",
       "        [0.6       , 0.0745098 , 0.        ],\n",
       "        [0.6       , 0.0745098 , 0.        ],\n",
       "        ...,\n",
       "        [0.69411765, 0.14901961, 0.05490196],\n",
       "        [0.69411765, 0.14901961, 0.05490196],\n",
       "        [0.69411765, 0.14901961, 0.05490196]],\n",
       "\n",
       "       [[0.6       , 0.0745098 , 0.        ],\n",
       "        [0.6       , 0.0745098 , 0.        ],\n",
       "        [0.6       , 0.0745098 , 0.        ],\n",
       "        ...,\n",
       "        [0.69411765, 0.14901961, 0.05490196],\n",
       "        [0.69411765, 0.14901961, 0.05490196],\n",
       "        [0.69411765, 0.14901961, 0.05490196]],\n",
       "\n",
       "       [[0.6       , 0.0745098 , 0.        ],\n",
       "        [0.6       , 0.0745098 , 0.        ],\n",
       "        [0.6       , 0.0745098 , 0.        ],\n",
       "        ...,\n",
       "        [0.69411765, 0.14901961, 0.05490196],\n",
       "        [0.69411765, 0.14901961, 0.05490196],\n",
       "        [0.69411765, 0.14901961, 0.05490196]],\n",
       "\n",
       "       ...,\n",
       "\n",
       "       [[0.6       , 0.0745098 , 0.        ],\n",
       "        [0.6       , 0.0745098 , 0.        ],\n",
       "        [0.6       , 0.0745098 , 0.        ],\n",
       "        ...,\n",
       "        [0.69411765, 0.14901961, 0.05490196],\n",
       "        [0.69411765, 0.14901961, 0.05490196],\n",
       "        [0.69411765, 0.14901961, 0.05490196]],\n",
       "\n",
       "       [[0.6       , 0.0745098 , 0.        ],\n",
       "        [0.6       , 0.0745098 , 0.        ],\n",
       "        [0.6       , 0.0745098 , 0.        ],\n",
       "        ...,\n",
       "        [0.69411765, 0.14901961, 0.05490196],\n",
       "        [0.69411765, 0.14901961, 0.05490196],\n",
       "        [0.69411765, 0.14901961, 0.05490196]],\n",
       "\n",
       "       [[0.6       , 0.0745098 , 0.        ],\n",
       "        [0.6       , 0.0745098 , 0.        ],\n",
       "        [0.6       , 0.0745098 , 0.        ],\n",
       "        ...,\n",
       "        [0.69411765, 0.14901961, 0.05490196],\n",
       "        [0.69411765, 0.14901961, 0.05490196],\n",
       "        [0.69411765, 0.14901961, 0.05490196]]])"
      ]
     },
     "execution_count": 13,
     "metadata": {},
     "output_type": "execute_result"
    }
   ],
   "source": [
    "x[0]"
   ]
  },
  {
   "cell_type": "code",
   "execution_count": 14,
   "metadata": {},
   "outputs": [
    {
     "data": {
      "text/plain": [
       "(397, 224, 224, 3)"
      ]
     },
     "execution_count": 14,
     "metadata": {},
     "output_type": "execute_result"
    }
   ],
   "source": [
    "x.shape"
   ]
  },
  {
   "cell_type": "code",
   "execution_count": 15,
   "metadata": {},
   "outputs": [],
   "source": [
    "from tensorflow.keras.models import Sequential\n",
    "from tensorflow.keras.layers import Dense,Conv2D,MaxPooling2D,Flatten,Dropout,BatchNormalization\n",
    "from tensorflow.keras.callbacks import ModelCheckpoint"
   ]
  },
  {
   "cell_type": "code",
   "execution_count": 17,
   "metadata": {},
   "outputs": [],
   "source": [
    "model = Sequential([Conv2D(256,(3,3),input_shape=(224,224,3),activation='relu'),\n",
    "                    MaxPooling2D((2,2)),\n",
    "                    BatchNormalization(),\n",
    "                    Dropout(0.2),\n",
    "                    Conv2D(256,(3,3),activation='relu'),\n",
    "                    MaxPooling2D((2,2)),\n",
    "                    BatchNormalization(),\n",
    "                    Dropout(0.2),\n",
    "                    Conv2D(256,(3,3),activation='relu'),\n",
    "                    MaxPooling2D((2,2)),\n",
    "                    BatchNormalization(),\n",
    "                    Dropout(0.2),\n",
    "                    Flatten(),\n",
    "                    Dense(64,activation='relu'),\n",
    "                    Dense(3,activation='softmax')\n",
    "                   ])"
   ]
  },
  {
   "cell_type": "code",
   "execution_count": 20,
   "metadata": {},
   "outputs": [],
   "source": [
    "model.compile(loss='sparse_categorical_crossentropy',optimizer='adam',metrics=['accuracy'])"
   ]
  },
  {
   "cell_type": "code",
   "execution_count": 22,
   "metadata": {},
   "outputs": [
    {
     "name": "stdout",
     "output_type": "stream",
     "text": [
      "Train on 397 samples\n",
      "Epoch 1/10\n",
      "397/397 [==============================] - 111s 280ms/sample - loss: 2.1023 - accuracy: 0.9572\n",
      "Epoch 2/10\n",
      "397/397 [==============================] - 112s 281ms/sample - loss: 2.7968 - accuracy: 0.9496\n",
      "Epoch 3/10\n",
      "397/397 [==============================] - 112s 282ms/sample - loss: 0.8131 - accuracy: 0.9547\n",
      "Epoch 4/10\n",
      "397/397 [==============================] - 112s 282ms/sample - loss: 0.7614 - accuracy: 0.9647\n",
      "Epoch 5/10\n",
      "397/397 [==============================] - 112s 283ms/sample - loss: 0.9962 - accuracy: 0.9673\n",
      "Epoch 6/10\n",
      "397/397 [==============================] - 112s 282ms/sample - loss: 1.0825 - accuracy: 0.9395\n",
      "Epoch 7/10\n",
      "397/397 [==============================] - 112s 281ms/sample - loss: 0.5988 - accuracy: 0.9194\n",
      "Epoch 8/10\n",
      "397/397 [==============================] - 111s 281ms/sample - loss: 0.2803 - accuracy: 0.9547\n",
      "Epoch 9/10\n",
      "397/397 [==============================] - 112s 281ms/sample - loss: 0.1481 - accuracy: 0.9194\n",
      "Epoch 10/10\n",
      "397/397 [==============================] - 112s 281ms/sample - loss: 0.1491 - accuracy: 0.9647\n"
     ]
    },
    {
     "data": {
      "text/plain": [
       "<tensorflow.python.keras.callbacks.History at 0x7f3dbc687850>"
      ]
     },
     "execution_count": 22,
     "metadata": {},
     "output_type": "execute_result"
    }
   ],
   "source": [
    "model.fit(x,y,batch_size=32,epochs=10)"
   ]
  },
  {
   "cell_type": "code",
   "execution_count": 23,
   "metadata": {},
   "outputs": [
    {
     "name": "stdout",
     "output_type": "stream",
     "text": [
      "Model: \"sequential\"\n",
      "_________________________________________________________________\n",
      "Layer (type)                 Output Shape              Param #   \n",
      "=================================================================\n",
      "conv2d (Conv2D)              (None, 222, 222, 256)     7168      \n",
      "_________________________________________________________________\n",
      "max_pooling2d (MaxPooling2D) (None, 111, 111, 256)     0         \n",
      "_________________________________________________________________\n",
      "batch_normalization (BatchNo (None, 111, 111, 256)     1024      \n",
      "_________________________________________________________________\n",
      "dropout (Dropout)            (None, 111, 111, 256)     0         \n",
      "_________________________________________________________________\n",
      "conv2d_1 (Conv2D)            (None, 109, 109, 256)     590080    \n",
      "_________________________________________________________________\n",
      "max_pooling2d_1 (MaxPooling2 (None, 54, 54, 256)       0         \n",
      "_________________________________________________________________\n",
      "batch_normalization_1 (Batch (None, 54, 54, 256)       1024      \n",
      "_________________________________________________________________\n",
      "dropout_1 (Dropout)          (None, 54, 54, 256)       0         \n",
      "_________________________________________________________________\n",
      "conv2d_2 (Conv2D)            (None, 52, 52, 256)       590080    \n",
      "_________________________________________________________________\n",
      "max_pooling2d_2 (MaxPooling2 (None, 26, 26, 256)       0         \n",
      "_________________________________________________________________\n",
      "batch_normalization_2 (Batch (None, 26, 26, 256)       1024      \n",
      "_________________________________________________________________\n",
      "dropout_2 (Dropout)          (None, 26, 26, 256)       0         \n",
      "_________________________________________________________________\n",
      "flatten (Flatten)            (None, 173056)            0         \n",
      "_________________________________________________________________\n",
      "dense (Dense)                (None, 64)                11075648  \n",
      "_________________________________________________________________\n",
      "dense_1 (Dense)              (None, 3)                 195       \n",
      "=================================================================\n",
      "Total params: 12,266,243\n",
      "Trainable params: 12,264,707\n",
      "Non-trainable params: 1,536\n",
      "_________________________________________________________________\n"
     ]
    }
   ],
   "source": [
    "model.summary()"
   ]
  },
  {
   "cell_type": "code",
   "execution_count": 24,
   "metadata": {},
   "outputs": [],
   "source": [
    "model.save('trained_model.h5')"
   ]
  },
  {
   "cell_type": "code",
   "execution_count": null,
   "metadata": {},
   "outputs": [],
   "source": []
  }
 ],
 "metadata": {
  "kernelspec": {
   "display_name": "Python 3",
   "language": "python",
   "name": "python3"
  },
  "language_info": {
   "codemirror_mode": {
    "name": "ipython",
    "version": 3
   },
   "file_extension": ".py",
   "mimetype": "text/x-python",
   "name": "python",
   "nbconvert_exporter": "python",
   "pygments_lexer": "ipython3",
   "version": "3.7.5"
  }
 },
 "nbformat": 4,
 "nbformat_minor": 2
}
